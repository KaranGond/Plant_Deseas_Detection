{
 "cells": [
  {
   "cell_type": "code",
   "execution_count": 1,
   "id": "0a39bbda",
   "metadata": {},
   "outputs": [
    {
     "name": "stdout",
     "output_type": "stream",
     "text": [
      "Requirement already satisfied: pillow in c:\\users\\evilk\\anaconda3\\lib\\site-packages (10.0.1)\n"
     ]
    }
   ],
   "source": [
    "!pip install pillow\n",
    "!pip install Flask numpy tensorflow\n",
    "!pip install fastapi uvicorn python-multipart"
   ]
  },
  {
   "cell_type": "code",
   "execution_count": null,
   "id": "1f717727",
   "metadata": {},
   "outputs": [
    {
     "name": "stdout",
     "output_type": "stream",
     "text": [
      "WARNING:tensorflow:From C:\\Users\\evilk\\anaconda3\\lib\\site-packages\\keras\\src\\losses.py:2976: The name tf.losses.sparse_softmax_cross_entropy is deprecated. Please use tf.compat.v1.losses.sparse_softmax_cross_entropy instead.\n",
      "\n",
      "WARNING:tensorflow:From C:\\Users\\evilk\\anaconda3\\lib\\site-packages\\keras\\src\\backend.py:1398: The name tf.executing_eagerly_outside_functions is deprecated. Please use tf.compat.v1.executing_eagerly_outside_functions instead.\n",
      "\n",
      "WARNING:tensorflow:From C:\\Users\\evilk\\anaconda3\\lib\\site-packages\\keras\\src\\layers\\pooling\\max_pooling2d.py:161: The name tf.nn.max_pool is deprecated. Please use tf.nn.max_pool2d instead.\n",
      "\n",
      " * Serving Flask app '__main__'\n",
      " * Debug mode: off\n"
     ]
    },
    {
     "name": "stderr",
     "output_type": "stream",
     "text": [
      "WARNING: This is a development server. Do not use it in a production deployment. Use a production WSGI server instead.\n",
      " * Running on http://127.0.0.1:5002\n",
      "Press CTRL+C to quit\n",
      "127.0.0.1 - - [06/Feb/2024 10:48:22] \"GET / HTTP/1.1\" 200 -\n",
      "127.0.0.1 - - [06/Feb/2024 10:48:22] \"GET /favicon.ico HTTP/1.1\" 404 -\n"
     ]
    },
    {
     "name": "stdout",
     "output_type": "stream",
     "text": [
      "1/1 [==============================] - 1s 776ms/step\n"
     ]
    },
    {
     "name": "stderr",
     "output_type": "stream",
     "text": [
      "127.0.0.1 - - [06/Feb/2024 10:48:45] \"POST /predict HTTP/1.1\" 200 -\n"
     ]
    },
    {
     "name": "stdout",
     "output_type": "stream",
     "text": [
      "1/1 [==============================] - 0s 63ms/step\n"
     ]
    },
    {
     "name": "stderr",
     "output_type": "stream",
     "text": [
      "127.0.0.1 - - [06/Feb/2024 10:49:19] \"POST /predict HTTP/1.1\" 200 -\n"
     ]
    },
    {
     "name": "stdout",
     "output_type": "stream",
     "text": [
      "1/1 [==============================] - 0s 63ms/step\n"
     ]
    },
    {
     "name": "stderr",
     "output_type": "stream",
     "text": [
      "127.0.0.1 - - [06/Feb/2024 10:49:54] \"POST /predict HTTP/1.1\" 200 -\n"
     ]
    },
    {
     "name": "stdout",
     "output_type": "stream",
     "text": [
      "1/1 [==============================] - 0s 67ms/step\n"
     ]
    },
    {
     "name": "stderr",
     "output_type": "stream",
     "text": [
      "127.0.0.1 - - [06/Feb/2024 10:50:17] \"POST /predict HTTP/1.1\" 200 -\n"
     ]
    },
    {
     "name": "stdout",
     "output_type": "stream",
     "text": [
      "1/1 [==============================] - 0s 65ms/step\n"
     ]
    },
    {
     "name": "stderr",
     "output_type": "stream",
     "text": [
      "127.0.0.1 - - [06/Feb/2024 10:50:45] \"POST /predict HTTP/1.1\" 200 -\n",
      "127.0.0.1 - - [06/Feb/2024 10:50:51] \"GET / HTTP/1.1\" 200 -\n"
     ]
    },
    {
     "name": "stdout",
     "output_type": "stream",
     "text": [
      "1/1 [==============================] - 0s 78ms/step\n"
     ]
    },
    {
     "name": "stderr",
     "output_type": "stream",
     "text": [
      "127.0.0.1 - - [06/Feb/2024 10:54:44] \"POST /predict HTTP/1.1\" 200 -\n"
     ]
    },
    {
     "name": "stdout",
     "output_type": "stream",
     "text": [
      "1/1 [==============================] - 0s 57ms/step\n"
     ]
    },
    {
     "name": "stderr",
     "output_type": "stream",
     "text": [
      "127.0.0.1 - - [06/Feb/2024 10:55:40] \"POST /predict HTTP/1.1\" 200 -\n"
     ]
    },
    {
     "name": "stdout",
     "output_type": "stream",
     "text": [
      "1/1 [==============================] - 0s 66ms/step\n"
     ]
    },
    {
     "name": "stderr",
     "output_type": "stream",
     "text": [
      "127.0.0.1 - - [06/Feb/2024 10:57:31] \"POST /predict HTTP/1.1\" 200 -\n"
     ]
    },
    {
     "name": "stdout",
     "output_type": "stream",
     "text": [
      "1/1 [==============================] - 0s 48ms/step\n"
     ]
    },
    {
     "name": "stderr",
     "output_type": "stream",
     "text": [
      "127.0.0.1 - - [06/Feb/2024 10:57:47] \"POST /predict HTTP/1.1\" 200 -\n"
     ]
    },
    {
     "name": "stdout",
     "output_type": "stream",
     "text": [
      "1/1 [==============================] - 0s 81ms/step\n"
     ]
    },
    {
     "name": "stderr",
     "output_type": "stream",
     "text": [
      "127.0.0.1 - - [06/Feb/2024 10:58:58] \"POST /predict HTTP/1.1\" 200 -\n"
     ]
    },
    {
     "name": "stdout",
     "output_type": "stream",
     "text": [
      "1/1 [==============================] - 0s 78ms/step\n"
     ]
    },
    {
     "name": "stderr",
     "output_type": "stream",
     "text": [
      "127.0.0.1 - - [06/Feb/2024 10:59:50] \"POST /predict HTTP/1.1\" 200 -\n"
     ]
    },
    {
     "name": "stdout",
     "output_type": "stream",
     "text": [
      "1/1 [==============================] - 0s 357ms/step\n"
     ]
    },
    {
     "name": "stderr",
     "output_type": "stream",
     "text": [
      "127.0.0.1 - - [06/Feb/2024 11:00:04] \"POST /predict HTTP/1.1\" 200 -\n"
     ]
    },
    {
     "name": "stdout",
     "output_type": "stream",
     "text": [
      "1/1 [==============================] - 0s 87ms/step\n"
     ]
    },
    {
     "name": "stderr",
     "output_type": "stream",
     "text": [
      "127.0.0.1 - - [06/Feb/2024 11:13:29] \"POST /predict HTTP/1.1\" 200 -\n",
      "127.0.0.1 - - [06/Feb/2024 11:13:38] \"GET / HTTP/1.1\" 200 -\n"
     ]
    },
    {
     "name": "stdout",
     "output_type": "stream",
     "text": [
      "1/1 [==============================] - 0s 205ms/step\n"
     ]
    },
    {
     "name": "stderr",
     "output_type": "stream",
     "text": [
      "127.0.0.1 - - [06/Feb/2024 12:54:30] \"POST /predict HTTP/1.1\" 200 -\n",
      "127.0.0.1 - - [06/Feb/2024 12:54:42] \"GET / HTTP/1.1\" 200 -\n"
     ]
    },
    {
     "name": "stdout",
     "output_type": "stream",
     "text": [
      "1/1 [==============================] - 0s 116ms/step\n"
     ]
    },
    {
     "name": "stderr",
     "output_type": "stream",
     "text": [
      "127.0.0.1 - - [06/Feb/2024 13:07:19] \"POST /predict HTTP/1.1\" 200 -\n"
     ]
    }
   ],
   "source": [
    "from flask import Flask, render_template, request\n",
    "import os\n",
    "from keras.preprocessing import image\n",
    "import numpy as np\n",
    "from keras.models import load_model\n",
    "import base64\n",
    "\n",
    "app = Flask(__name__, template_folder='template_folder', static_url_path='/static')\n",
    "\n",
    "model_path = r\"D:\\Machine Learning\\Manoj Sir Practical Assignment\\trained_model.h5\"\n",
    "model = load_model(model_path)\n",
    "\n",
    "class_name_pattern = [\n",
    "    'Chilli_leaf_curl', 'Chilli_leaf_spot', 'Chilli_whitefly', 'Chilli_yellowish', 'Chillli_healthy',\n",
    "    'Pepper__bell___Bacterial_spot', 'Pepper__bell___healthy', 'Potato___Early_blight', 'Potato___Late_blight',\n",
    "    'Potato___healthy', 'Tomato_Bacterial_spot', 'Tomato_Early_blight', 'Tomato_Late_blight', 'Tomato_Leaf_Mold',\n",
    "    'Tomato_Septoria_leaf_spot', 'Tomato_Spider_mites_Two_spotted_spider_mite', 'Tomato__Target_Spot',\n",
    "    'Tomato__Tomato_YellowLeaf__Curl_Virus', 'Tomato__Tomato_mosaic_virus', 'Tomato_healthy'\n",
    "]\n",
    "\n",
    "suggestions = {\n",
    "    'Chilli_leaf_curl': \"Suggestion for Chilli_leaf_curl: Implement preventive measures, such as maintaining proper spacing between plants and using resistant varieties. Consider applying appropriate medicine.\",\n",
    "    'Chilli_leaf_spot': \"Suggestion for Chilli_leaf_spot: Implement preventive measures, such as maintaining proper spacing between plants and using resistant varieties. Consider applying appropriate medicine.\",\n",
    "    'Chilli_whitefly': \"Suggestion for Chilli_whitefly: Implement preventive measures, such as maintaining proper spacing between plants and using resistant varieties. Consider applying neem oil or insecticidal soap to control whiteflies.\",\n",
    "    'Chilli_yellowish': \"Suggestion for Chilli_yellowish: Implement preventive measures, such as maintaining proper spacing between plants and using resistant varieties. Consider applying appropriate medicine.\",\n",
    "    'Chillli_healthy': \"Suggestion for Chillli_healthy: The plant looks healthy. Continue regular care.\",\n",
    "    'Pepper__bell___Bacterial_spot': \"Suggestion for Pepper__bell___Bacterial_spot: Use disease-resistant varieties, rotate crops, and avoid overhead irrigation to minimize water splashing. Consider applying appropriate medicine.\",\n",
    "    'Pepper__bell___healthy': \"Suggestion for Pepper__bell___healthy: The plant looks healthy. Continue regular care.\",\n",
    "    'Potato___Early_blight': \"Suggestion for Potato___Early_blight: Practice crop rotation, use certified disease-free seed potatoes, and apply fungicides preventatively in high-risk areas. Consider applying appropriate medicine.\",\n",
    "    'Potato___Late_blight': \"Suggestion for Potato___Late_blight: Practice crop rotation, use certified disease-free seed potatoes, and apply fungicides preventatively in high-risk areas. Consider applying appropriate medicine.\",\n",
    "    'Potato___healthy': \"Suggestion for Potato___healthy: The plant looks healthy. Continue regular care.\",\n",
    "    'Tomato_Bacterial_spot': \"Suggestion for Tomato_Bacterial_spot: Rotate crops, use resistant varieties, and apply fungicides or insecticides preventatively. Practice good sanitation by removing infected plant material. Consider applying appropriate medicine.\",\n",
    "    'Tomato_Early_blight': \"Suggestion for Tomato_Early_blight: Rotate crops, use resistant varieties, and apply fungicides or insecticides preventatively. Practice good sanitation by removing infected plant material. Consider applying appropriate medicine.\",\n",
    "    'Tomato_Late_blight': \"Suggestion for Tomato_Late_blight: Rotate crops, use resistant varieties, and apply fungicides or insecticides preventatively. Practice good sanitation by removing infected plant material. Consider applying appropriate medicine.\",\n",
    "    'Tomato_Leaf_Mold': \"Suggestion for Tomato_Leaf_Mold: Rotate crops and apply fungicides preventatively. Consider applying appropriate medicine.\",\n",
    "    'Tomato_Septoria_leaf_spot': \"Suggestion for Tomato_Septoria_leaf_spot: Rotate crops and apply fungicides preventatively. Consider applying appropriate medicine.\",\n",
    "    'Tomato_Spider_mites_Two_spotted_spider_mite': \"Suggestion for Tomato_Spider_mites_Two_spotted_spider_mite: Implement preventive measures and consider applying appropriate medicine.\",\n",
    "    'Tomato__Target_Spot': \"Suggestion for Tomato__Target_Spot: Rotate crops and apply fungicides preventatively. Consider applying appropriate medicine.\",\n",
    "    'Tomato__Tomato_YellowLeaf__Curl_Virus': \"Suggestion for Tomato__Tomato_YellowLeaf__Curl_Virus: Implement preventive measures and consider applying appropriate medicine.\",\n",
    "    'Tomato__Tomato_mosaic_virus': \"Suggestion for Tomato__Tomato_mosaic_virus: Implement preventive measures and consider applying appropriate medicine.\",\n",
    "    'Tomato_healthy': \"Suggestion for Tomato_healthy: The plant looks healthy. Continue regular care.\"\n",
    "}\n",
    "\n",
    "def generate_suggestion(predicted_class):\n",
    "    return suggestions.get(predicted_class, \"No specific suggestion available.\")\n",
    "\n",
    "def preprocess_image(img_path):\n",
    "    try:\n",
    "        img = image.load_img(img_path, target_size=(180, 180))\n",
    "        img_array = image.img_to_array(img)\n",
    "        img_array = np.expand_dims(img_array, axis=0)\n",
    "        return img_array\n",
    "    except Exception as e:\n",
    "        print(f\"Error processing image {img_path}: {e}\")\n",
    "        return None\n",
    "\n",
    "@app.route('/')\n",
    "def index():\n",
    "    return render_template('one.html')\n",
    "\n",
    "@app.route('/predict', methods=['POST'])\n",
    "def predict():\n",
    "    try:\n",
    "        if 'file' not in request.files:\n",
    "            return render_template('one.html', message='No file part')\n",
    "\n",
    "        file = request.files['file']\n",
    "\n",
    "        if file.filename == '':\n",
    "            return render_template('one.html', message='No selected file')\n",
    "\n",
    "        if file:\n",
    "            # Generate a unique filename to avoid overwriting\n",
    "            temp_path = f'temp_image_{hash(file.filename)}.jpg'\n",
    "            file.save(temp_path)\n",
    "            img_array = preprocess_image(temp_path)\n",
    "\n",
    "            if img_array is not None:\n",
    "                predictions = model.predict(img_array)\n",
    "                predicted_class = np.argmax(predictions)\n",
    "                predicted_class_name = class_name_pattern[predicted_class]\n",
    "\n",
    "                # Get suggestion based on predicted class\n",
    "                suggested_text = generate_suggestion(predicted_class_name)\n",
    "\n",
    "                # Encode uploaded image to Base64\n",
    "                with open(temp_path, \"rb\") as image_file:\n",
    "                    encoded_uploaded_image = base64.b64encode(image_file.read()).decode('utf-8')\n",
    "\n",
    "                # Cleanup: Delete the temporary image file\n",
    "                os.remove(temp_path)\n",
    "\n",
    "                # Pass suggested_text and encoded_uploaded_image to the template\n",
    "                return render_template('one.html', message=f'Predicted class: {predicted_class_name}',\n",
    "                                       suggested_text=suggested_text, encoded_uploaded_image=encoded_uploaded_image)\n",
    "\n",
    "    except Exception as e:\n",
    "        return render_template('one.html', message=f'Error: {str(e)}')\n",
    "\n",
    "if __name__ == '__main__':\n",
    "    app.run(port=5002)\n"
   ]
  },
  {
   "cell_type": "code",
   "execution_count": null,
   "id": "99f535bd",
   "metadata": {},
   "outputs": [],
   "source": []
  }
 ],
 "metadata": {
  "kernelspec": {
   "display_name": "Python 3 (ipykernel)",
   "language": "python",
   "name": "python3"
  },
  "language_info": {
   "codemirror_mode": {
    "name": "ipython",
    "version": 3
   },
   "file_extension": ".py",
   "mimetype": "text/x-python",
   "name": "python",
   "nbconvert_exporter": "python",
   "pygments_lexer": "ipython3",
   "version": "3.10.9"
  }
 },
 "nbformat": 4,
 "nbformat_minor": 5
}
